{
 "cells": [
  {
   "cell_type": "markdown",
   "metadata": {},
   "source": [
    "# PYNAMESTATE\n",
    "\n",
    "this is a engine to convert data from the SSI name index into a format suitable for clustering states and years on the basis of how similar names were from state to state and year to year.  Notebook assumes you're loading from an enviroment with python3, numpy, pandas, matplotlib, and scikit. \n",
    "\n",
    "data used here downloaded from: https://www.ssa.gov/OACT/babynames/state/namesbystate.zip\n",
    "\n",
    "#### existing code does the following: \n",
    "- loads data from raw .csv into dataframe (converted from .txt in ssi zip)\n",
    "- concatinates dataframes from each file into a larger dataframe\n",
    "- imputes missing names (it'd be nice to have all names per year per state per gender to make something nice and matrix-y later on)\n",
    "- calculates a score based on the fraction of births/year with a given name\n",
    "- calculates similarity between states and years based on name freqency\n",
    "- reduces the number of observed variables (i.e. names) via PCA\n",
    "- clusters states in a given year based on similarity\n",
    "- displays heatmap and scatter of clustering"
   ]
  },
  {
   "cell_type": "code",
   "execution_count": 27,
   "metadata": {
    "collapsed": false,
    "scrolled": true
   },
   "outputs": [
    {
     "name": "stdout",
     "output_type": "stream",
     "text": [
      "   state gender  year       name  nbirths\n",
      "1     AK      F  1910      Annie       12\n",
      "2     AK      F  1910       Anna       10\n",
      "3     AK      F  1910   Margaret        8\n",
      "4     AK      F  1910      Helen        7\n",
      "5     AK      F  1910      Elsie        6\n",
      "6     AK      F  1910       Lucy        6\n",
      "7     AK      F  1910    Dorothy        5\n",
      "8     AK      F  1911       Mary       12\n",
      "9     AK      F  1911   Margaret        7\n",
      "10    AK      F  1911       Ruth        7\n",
      "11    AK      F  1911      Annie        6\n",
      "12    AK      F  1911  Elizabeth        6\n",
      "13    AK      F  1911      Helen        6\n",
      "14    AK      F  1912       Mary        9\n"
     ]
    }
   ],
   "source": [
    "import pandas as pd\n",
    "import numpy as np\n",
    "import os\n",
    "import matplotlib.pyplot as plt\n",
    "import glob\n",
    "\n",
    "# assuming you're running the notebook where the data is\n",
    "#os.chdir('namesbystate')\n",
    "cwd = os.getcwd()\n",
    "\n",
    "# find all the *.csv files locally and put them into a list (os.path.join)\n",
    "# and do it with 'nix naming conventions (glob.glob)\n",
    "all_files = glob.glob(os.path.join(cwd, \"*.csv\"))    \n",
    "\n",
    "# read each file in all_files into a dataframe with proper headers, and concatinate to larger dataframe\n",
    "df = pd.concat(pd.read_csv(f, names = [\"state\", \"gender\", \"year\", \"name\", \"nbirths\"]) for f in all_files)\n",
    "\n",
    "# display the result, see if it looks like the dataframe we want\n",
    "print(df[1:15])\n",
    "\n"
   ]
  },
  {
   "cell_type": "code",
   "execution_count": 28,
   "metadata": {
    "collapsed": false
   },
   "outputs": [
    {
     "name": "stdout",
     "output_type": "stream",
     "text": [
      "     state  year       name  nbirths\n",
      "527     AK  1935  Elizabeth       13\n",
      "528     AK  1935   Margaret       13\n",
      "2783    AK  1960       Mary       78\n",
      "2784    AK  1960      Linda       56\n",
      "2785    AK  1960      Karen       53\n",
      "2786    AK  1960      Debra       50\n",
      "2787    AK  1960      Susan       50\n",
      "2788    AK  1960  Elizabeth       47\n",
      "2789    AK  1960     Sandra       47\n",
      "2790    AK  1960   Patricia       43\n",
      "2791    AK  1960      Donna       42\n",
      "2792    AK  1960      Cindy       40\n",
      "2793    AK  1960     Cheryl       39\n",
      "2794    AK  1960     Teresa       39\n",
      "2842\n",
      "that seems like a lot of missing rows\n",
      "\n"
     ]
    }
   ],
   "source": [
    "# drop the boys\n",
    "df = df[df.gender !='M']\n",
    "df = df.drop('gender',1)\n",
    "\n",
    "# take names with reasonable frequency\n",
    "df = df[df.nbirths>9]\n",
    "\n",
    "# take a small subset of years\n",
    "# aids in fitting in system memory\n",
    "\n",
    "years = range(1935,2011,25)\n",
    "df = df.loc[df['year'].isin(years)]\n",
    "\n",
    "print(df[1:15])\n",
    "\n"
   ]
  },
  {
   "cell_type": "code",
   "execution_count": 29,
   "metadata": {
    "collapsed": false
   },
   "outputs": [
    {
     "name": "stdout",
     "output_type": "stream",
     "text": [
      "   state  year       name  nbirths\n",
      "1     AK  1935  Elizabeth     13.0\n",
      "2     AK  1935   Margaret     13.0\n",
      "3     AK  1935      Linda      0.0\n",
      "4     AK  1935      Karen      0.0\n",
      "5     AK  1935      Debra      0.0\n",
      "6     AK  1935      Susan      0.0\n",
      "7     AK  1935     Sandra      0.0\n",
      "8     AK  1935   Patricia      0.0\n",
      "9     AK  1935      Donna      0.0\n",
      "10    AK  1935      Cindy      0.0\n",
      "11    AK  1935     Cheryl      0.0\n",
      "12    AK  1935     Teresa      0.0\n",
      "13    AK  1935    Cynthia      0.0\n",
      "14    AK  1935      Nancy      0.0\n"
     ]
    }
   ],
   "source": [
    "# to end with a 50 x n_names matrix of similarity to classify on\n",
    "# it'd be nice to fill in birth #'s for missing names (for that year,state)\n",
    "# this is not particularly fast, roughly 5 minutes per year - slower if we're more inclusive with rare names\n",
    "\n",
    "# first, deliniate how the dataframe is structured\n",
    "level_index = ['state','year','name']\n",
    "\n",
    "# then establish how a full (n_states x n_years x n_names) dataframe would be structured\n",
    "full_index = pd.MultiIndex.from_product([df[col].unique() for col in level_index], names=level_index)\n",
    "\n",
    "#then, re-index first dataframe in the larger, fully indexed dataframe\n",
    "df = df.set_index(level_index).reindex(full_index)\n",
    "\n",
    "# finally, for all new cells of the dataframe, set nbirths as 0 for names not born in that year and state\n",
    "df = df.groupby(level = level_index).fillna(value=0).reset_index()\n",
    "\n",
    "# now, the dataframe should include 'new' names for each year, state\n",
    "print(df[1:15])"
   ]
  },
  {
   "cell_type": "code",
   "execution_count": 73,
   "metadata": {
    "collapsed": false
   },
   "outputs": [
    {
     "name": "stdout",
     "output_type": "stream",
     "text": [
      "   state  year       name  nbirths  nbirthsum  nbirthratio\n",
      "1     AK  1935  Elizabeth     13.0       55.0     0.236364\n",
      "2     AK  1935   Margaret     13.0       55.0     0.236364\n",
      "3     AK  1935      Linda      0.0       55.0     0.000000\n",
      "4     AK  1935      Karen      0.0       55.0     0.000000\n",
      "5     AK  1935      Debra      0.0       55.0     0.000000\n",
      "6     AK  1935      Susan      0.0       55.0     0.000000\n",
      "7     AK  1935     Sandra      0.0       55.0     0.000000\n",
      "8     AK  1935   Patricia      0.0       55.0     0.000000\n",
      "9     AK  1935      Donna      0.0       55.0     0.000000\n",
      "10    AK  1935      Cindy      0.0       55.0     0.000000\n",
      "11    AK  1935     Cheryl      0.0       55.0     0.000000\n",
      "12    AK  1935     Teresa      0.0       55.0     0.000000\n",
      "13    AK  1935    Cynthia      0.0       55.0     0.000000\n",
      "14    AK  1935      Nancy      0.0       55.0     0.000000\n",
      "[ 0.00536937]\n"
     ]
    }
   ],
   "source": [
    "# let's calculate the measure by which we'll look at state, year similarity\n",
    "\n",
    "# find the number of births that year, and calculate a ratio based on nbirths/totalbirths\n",
    "df['nbirthsum'] = df.groupby([\"state\",\"year\"])[\"nbirths\"].transform(np.sum)\n",
    "df['nbirthratio'] = df[\"nbirths\"]/df[\"nbirthsum\"]\n",
    "\n",
    "# now with the addition of our nbirthratio\n",
    "print(df[1:15])\n",
    "\n",
    "# we can access the values we want through the following logical indexing, for reference: \n",
    "print(df[(df.state == \"MA\") & (df.year == 1985) & (df.name == \"Mary\")][\"nbirthratio\"].values)\n"
   ]
  },
  {
   "cell_type": "code",
   "execution_count": 74,
   "metadata": {
    "collapsed": false,
    "scrolled": true
   },
   "outputs": [
    {
     "name": "stdout",
     "output_type": "stream",
     "text": [
      "[[ 0.01509472  0.00269906  0.00144949  0.00219923  0.00054981  0.00209927\n",
      "   0.00099965  0.0022992   0.00119958]\n",
      " [ 0.01468363  0.00186883  0.00088992  0.00169084  0.          0.00204681\n",
      "   0.00115689  0.00240278  0.00142387]\n",
      " [ 0.01225314  0.00211427  0.00163375  0.00201816  0.00081688  0.00206621\n",
      "   0.00216232  0.00422853  0.00086493]\n",
      " [ 0.01283534  0.00122339  0.0026267   0.00214865  0.00047291  0.0014033\n",
      "   0.00353653  0.00381925  0.00060656]\n",
      " [ 0.01496247  0.00313168  0.00114331  0.00223691  0.00049709  0.00139186\n",
      "   0.00139186  0.0026843   0.00084506]\n",
      " [ 0.01895341  0.00312699  0.00153159  0.00319081  0.          0.0023612\n",
      "   0.00146777  0.00242502  0.        ]\n",
      " [ 0.02451725  0.00564114  0.          0.00216967  0.          0.00238663\n",
      "   0.00282057  0.0052072   0.        ]\n",
      " [ 0.01533019  0.          0.          0.          0.          0.          0.\n",
      "   0.0043239   0.        ]\n",
      " [ 0.01228369  0.00168471  0.00163564  0.00210998  0.00081782  0.00142301\n",
      "   0.00219176  0.0035657   0.00094867]]\n"
     ]
    }
   ],
   "source": [
    "# let's format the new nbirthratio into a state by name matrix for a given year (np.array)\n",
    "\n",
    "import numpy as np\n",
    "\n",
    "# first find the dimensions\n",
    "state_index = df.state.unique()\n",
    "name_index = df.name.unique()\n",
    "\n",
    "\n",
    "# then, initialize the matrix\n",
    "df_matrix = np.zeros((len(state_index), len(name_index)))\n",
    "\n",
    "# then, let's populate the larger matrix\n",
    "# note: this is SLOW (50ms per element!, 2h total)\n",
    "\n",
    "for st in range(0, len(state_index)): \n",
    "\n",
    "    for na in range(0, len(name_index)):\n",
    "    \n",
    "        df_matrix[st, na] = df[(df.state == state_index[st]) & (df.year == 1985) & (df.name == name_index[na])][\"nbirthratio\"].values\n",
    "    \n",
    "\n",
    "print(df_matrix[1:10,1:10])"
   ]
  },
  {
   "cell_type": "code",
   "execution_count": 173,
   "metadata": {
    "collapsed": false
   },
   "outputs": [
    {
     "name": "stderr",
     "output_type": "stream",
     "text": [
      "C:\\Miniconda3\\envs\\rldm\\lib\\site-packages\\matplotlib\\collections.py:590: FutureWarning: elementwise comparison failed; returning scalar instead, but in the future will perform elementwise comparison\n",
      "  if self._edgecolors == str('face'):\n"
     ]
    }
   ],
   "source": [
    "# let's make sure we can see what we want\n",
    "\n",
    "plt.subplot(2, 1, 1)\n",
    "plt.plot((df_matrix[:,1:500].T), linewidth = 1)\n",
    "plt.xlabel('name, indexed #')\n",
    "plt.ylabel('counts per name')\n",
    "\n",
    "plt.subplot(2, 1, 2)\n",
    "plt.scatter(df_matrix[10,:],df_matrix[41,:], color = 'cornflowerblue', linewidth = 2)\n",
    "plt.xlabel('counts per name, state 1')\n",
    "plt.ylabel('counts per name, state 2')\n",
    "\n",
    "plt.show()\n"
   ]
  },
  {
   "cell_type": "code",
   "execution_count": 136,
   "metadata": {
    "collapsed": false
   },
   "outputs": [
    {
     "name": "stderr",
     "output_type": "stream",
     "text": [
      "C:\\Miniconda3\\envs\\rldm\\lib\\site-packages\\matplotlib\\collections.py:590: FutureWarning: elementwise comparison failed; returning scalar instead, but in the future will perform elementwise comparison\n",
      "  if self._edgecolors == str('face'):\n"
     ]
    }
   ],
   "source": [
    "# let's see if all the states are the same - here we're ordered alphabetically\n",
    "\n",
    "raw_state_corr=np.corrcoef(df_matrix)\n",
    "\n",
    "plt.pcolor(np.power(raw_state_corr,2), cmap=plt.cm.PuOr, alpha=0.8)\n",
    "plt.colorbar()\n",
    "\n",
    "plt.xlabel('states 1-50')\n",
    "plt.ylabel('states 1-50')\n",
    "plt.xlim([0, 50]), plt.ylim([0, 50])\n",
    "plt.title('correlation among states for names')\n",
    "\n",
    "plt.show()"
   ]
  },
  {
   "cell_type": "code",
   "execution_count": 183,
   "metadata": {
    "collapsed": false
   },
   "outputs": [
    {
     "name": "stderr",
     "output_type": "stream",
     "text": [
      "C:\\Miniconda3\\envs\\rldm\\lib\\site-packages\\matplotlib\\collections.py:590: FutureWarning: elementwise comparison failed; returning scalar instead, but in the future will perform elementwise comparison\n",
      "  if self._edgecolors == str('face'):\n"
     ]
    }
   ],
   "source": [
    "# let's see if all the states are the same - here we're clustered on the first few PC's\n",
    "from sklearn.decomposition import PCA\n",
    "from sklearn.cluster import AgglomerativeClustering\n",
    "\n",
    "\n",
    "pca = PCA(n_components=50)\n",
    "pca.fit(df_matrix)\n",
    "X = pca.transform(df_matrix)\n",
    "\n",
    "plt.subplot(1,2,1)\n",
    "for linkage in ('ward', 'average', 'complete'):\n",
    "    model = AgglomerativeClustering(linkage=linkage, n_clusters=4)\n",
    "    model.fit(X[:,0:3])\n",
    "    plt.scatter(X[:, 0], X[:, 1], c=model.labels_, s=70, alpha = 0.6, edgecolor = 'None')\n",
    "    \n",
    "plt.xlabel('PC 1')\n",
    "plt.ylabel('PC 2')\n",
    "plt.xlim([-0.06, 0.04])\n",
    "plt.ylim([-0.04, 0.04])\n",
    "plt.title('classification in PC space')\n",
    "\n",
    "\n",
    "for label, x, y in zip(state_index, X[:, 0], X[:, 1]):\n",
    "    plt.annotate(\n",
    "        label,\n",
    "        xy=(x, y), xytext=(-10, 10),\n",
    "        textcoords='offset points', ha='right', va='bottom',\n",
    "        bbox=dict(boxstyle='round,pad=0.15', fc='yellow', alpha=0.35),\n",
    "        arrowprops=dict(arrowstyle = '->', connectionstyle='arc3,rad=0'))\n",
    "\n",
    "\n",
    "\n",
    "plt.subplot(1,2,2)\n",
    "\n",
    "cluster_order=np.argsort(model.labels_)\n",
    "psort_state_corr=np.power(raw_state_corr[:,cluster_order],2)\n",
    "sort_state_corr=np.power(raw_state_corr[cluster_order,:],1)\n",
    "\n",
    "plt.pcolor(np.power(sort_state_corr[:,cluster_order],2), cmap=plt.cm.PuOr, alpha=0.8)\n",
    "plt.colorbar()\n",
    "\n",
    "plt.xlabel('states 1-50')\n",
    "plt.ylabel('states 1-50')\n",
    "plt.xlim([0, 50]), plt.ylim([0, 50])\n",
    "plt.title('correlation for sorted states')\n",
    "\n",
    "plt.show()\n",
    "\n"
   ]
  },
  {
   "cell_type": "code",
   "execution_count": 184,
   "metadata": {
    "collapsed": false
   },
   "outputs": [
    {
     "name": "stdout",
     "output_type": "stream",
     "text": [
      "['AK' 'DE' 'ME' 'MT' 'ND' 'NE' 'NH' 'NV' 'RI' 'SD' 'VT' 'WY']\n",
      "['AZ' 'CO' 'FL' 'IA' 'ID' 'IL' 'IN' 'KS' 'MD' 'MI' 'MN' 'MO' 'NM' 'OH' 'OK'\n",
      " 'OR' 'PA' 'UT' 'VA' 'WA' 'WI']\n",
      "['CA' 'CT' 'DC' 'HI' 'MA' 'NJ' 'NY' 'TX']\n",
      "['AL' 'AR' 'GA' 'KY' 'LA' 'MS' 'NC' 'SC' 'TN' 'WV']\n"
     ]
    }
   ],
   "source": [
    "# let's list the groups - rural north, \n",
    "print(state_index[model.labels_ == 0])\n",
    "\n",
    "# midwest tidewater and plains\n",
    "print(state_index[model.labels_ == 1])\n",
    "\n",
    "# costal states and southwest\n",
    "print(state_index[model.labels_ == 2])\n",
    "\n",
    "# southern states, plus mountains\n",
    "print(state_index[model.labels_ == 3])"
   ]
  },
  {
   "cell_type": "code",
   "execution_count": null,
   "metadata": {
    "collapsed": true
   },
   "outputs": [],
   "source": []
  }
 ],
 "metadata": {
  "kernelspec": {
   "display_name": "Python 3",
   "language": "python",
   "name": "python3"
  },
  "language_info": {
   "codemirror_mode": {
    "name": "ipython",
    "version": 3
   },
   "file_extension": ".py",
   "mimetype": "text/x-python",
   "name": "python",
   "nbconvert_exporter": "python",
   "pygments_lexer": "ipython3",
   "version": "3.4.5"
  }
 },
 "nbformat": 4,
 "nbformat_minor": 0
}
